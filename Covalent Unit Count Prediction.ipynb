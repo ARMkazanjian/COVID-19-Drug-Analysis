{
 "cells": [
  {
   "cell_type": "markdown",
   "id": "ca0e2537-075f-4f18-ab8e-cc5a51f8f3ab",
   "metadata": {},
   "source": [
    "### XGBoost Covalent Unit Count Prediction"
   ]
  },
  {
   "cell_type": "markdown",
   "id": "4c69c418-07da-48ef-8ba1-74673b88f862",
   "metadata": {},
   "source": [
    "#### Importing Libraries"
   ]
  },
  {
   "cell_type": "code",
   "execution_count": 90,
   "id": "7a5243b5-1360-45de-8c51-c6b6fdb82f94",
   "metadata": {},
   "outputs": [],
   "source": [
    "import pandas as pd\n",
    "import numpy as np\n",
    "from sklearn.ensemble import GradientBoostingRegressor # Importing our Boosting Model\n",
    "from sklearn.preprocessing import MinMaxScaler\n",
    "from sklearn.metrics import mean_squared_error, r2_score # Used to evaluted precision of KNN model\n",
    "from sklearn.model_selection import train_test_split #Split the dataset into training and testing sets "
   ]
  },
  {
   "cell_type": "markdown",
   "id": "83074017-4e19-48db-8bba-a0d0cbee4765",
   "metadata": {},
   "source": [
    "#### Dataset Visualization"
   ]
  },
  {
   "cell_type": "code",
   "execution_count": 91,
   "id": "38bb3fd4-66ca-43dd-8035-d21630ce95ac",
   "metadata": {},
   "outputs": [
    {
     "data": {
      "text/html": [
       "<div>\n",
       "<style scoped>\n",
       "    .dataframe tbody tr th:only-of-type {\n",
       "        vertical-align: middle;\n",
       "    }\n",
       "\n",
       "    .dataframe tbody tr th {\n",
       "        vertical-align: top;\n",
       "    }\n",
       "\n",
       "    .dataframe thead th {\n",
       "        text-align: right;\n",
       "    }\n",
       "</style>\n",
       "<table border=\"1\" class=\"dataframe\">\n",
       "  <thead>\n",
       "    <tr style=\"text-align: right;\">\n",
       "      <th></th>\n",
       "      <th>CID</th>\n",
       "      <th>SMILES</th>\n",
       "      <th>MolecularFormula</th>\n",
       "      <th>MolecularWeight</th>\n",
       "      <th>InChI</th>\n",
       "      <th>InChIKey</th>\n",
       "      <th>IUPACName</th>\n",
       "      <th>XLogP</th>\n",
       "      <th>ExactMass</th>\n",
       "      <th>MonoisotopicMass</th>\n",
       "      <th>...</th>\n",
       "      <th>FeatureAcceptorCount3D</th>\n",
       "      <th>FeatureDonorCount3D</th>\n",
       "      <th>FeatureAnionCount3D</th>\n",
       "      <th>FeatureCationCount3D</th>\n",
       "      <th>FeatureRingCount3D</th>\n",
       "      <th>FeatureHydrophobeCount3D</th>\n",
       "      <th>ConformerModelRMSD3D</th>\n",
       "      <th>EffectiveRotorCount3D</th>\n",
       "      <th>ConformerCount3D</th>\n",
       "      <th>pIC50</th>\n",
       "    </tr>\n",
       "  </thead>\n",
       "  <tbody>\n",
       "    <tr>\n",
       "      <th>0</th>\n",
       "      <td>2744814</td>\n",
       "      <td>ClC1=CC(NC(=O)CSC2=NC=CC(=N2)C2=CSC(=N2)C2=CC=...</td>\n",
       "      <td>C21H14Cl2N4OS2</td>\n",
       "      <td>473.4</td>\n",
       "      <td>InChI=1S/C21H14Cl2N4OS2/c22-14-8-15(23)10-16(9...</td>\n",
       "      <td>LILOEJREEQFTPM-UHFFFAOYSA-N</td>\n",
       "      <td>N-(3,5-dichlorophenyl)-2-[4-(2-phenyl-1,3-thia...</td>\n",
       "      <td>5.6</td>\n",
       "      <td>471.998609</td>\n",
       "      <td>471.998609</td>\n",
       "      <td>...</td>\n",
       "      <td>3.0</td>\n",
       "      <td>1.0</td>\n",
       "      <td>0.0</td>\n",
       "      <td>1.0</td>\n",
       "      <td>4.0</td>\n",
       "      <td>0.0</td>\n",
       "      <td>1.0</td>\n",
       "      <td>7.0</td>\n",
       "      <td>10.0</td>\n",
       "      <td>-0.477121255</td>\n",
       "    </tr>\n",
       "    <tr>\n",
       "      <th>1</th>\n",
       "      <td>2821293</td>\n",
       "      <td>CN1N=C(C=C1C(F)(F)F)C1=CC=C(S1)C1=CC=NC(SCC(=O...</td>\n",
       "      <td>C21H15ClF3N5OS2</td>\n",
       "      <td>510.0</td>\n",
       "      <td>InChI=1S/C21H15ClF3N5OS2/c1-30-18(21(23,24)25)...</td>\n",
       "      <td>AWQBIBTZJKFLEW-UHFFFAOYSA-N</td>\n",
       "      <td>N-(4-chlorophenyl)-2-[4-[5-[1-methyl-5-(triflu...</td>\n",
       "      <td>4.9</td>\n",
       "      <td>509.035865</td>\n",
       "      <td>509.035865</td>\n",
       "      <td>...</td>\n",
       "      <td>3.0</td>\n",
       "      <td>1.0</td>\n",
       "      <td>0.0</td>\n",
       "      <td>1.0</td>\n",
       "      <td>4.0</td>\n",
       "      <td>0.0</td>\n",
       "      <td>1.2</td>\n",
       "      <td>8.0</td>\n",
       "      <td>10.0</td>\n",
       "      <td>-1</td>\n",
       "    </tr>\n",
       "    <tr>\n",
       "      <th>2</th>\n",
       "      <td>2820912</td>\n",
       "      <td>CSC1=C(C(C)=C(S1)C1=NC(C)=CS1)C1=CC=NC(SCC(=O)...</td>\n",
       "      <td>C22H19ClN4OS4</td>\n",
       "      <td>519.1</td>\n",
       "      <td>InChI=1S/C22H19ClN4OS4/c1-12-10-30-20(25-12)19...</td>\n",
       "      <td>WRXXISITJDZVCL-UHFFFAOYSA-N</td>\n",
       "      <td>N-(4-chlorophenyl)-2-[4-[4-methyl-2-methylsulf...</td>\n",
       "      <td>6.3</td>\n",
       "      <td>518.013024</td>\n",
       "      <td>518.013024</td>\n",
       "      <td>...</td>\n",
       "      <td>3.0</td>\n",
       "      <td>1.0</td>\n",
       "      <td>0.0</td>\n",
       "      <td>1.0</td>\n",
       "      <td>4.0</td>\n",
       "      <td>1.0</td>\n",
       "      <td>1.0</td>\n",
       "      <td>8.0</td>\n",
       "      <td>10.0</td>\n",
       "      <td>-1.041392685</td>\n",
       "    </tr>\n",
       "    <tr>\n",
       "      <th>3</th>\n",
       "      <td>2820914</td>\n",
       "      <td>CSC1=C(C(C)=C(S1)C1=NC(C)=CS1)C1=CC=NC(SCC(=O)...</td>\n",
       "      <td>C22H19ClN4OS4</td>\n",
       "      <td>519.1</td>\n",
       "      <td>InChI=1S/C22H19ClN4OS4/c1-12-10-30-20(25-12)19...</td>\n",
       "      <td>NNVVKOVHRSDRSQ-UHFFFAOYSA-N</td>\n",
       "      <td>N-(2-chlorophenyl)-2-[4-[4-methyl-2-methylsulf...</td>\n",
       "      <td>6.3</td>\n",
       "      <td>518.013024</td>\n",
       "      <td>518.013024</td>\n",
       "      <td>...</td>\n",
       "      <td>3.0</td>\n",
       "      <td>1.0</td>\n",
       "      <td>0.0</td>\n",
       "      <td>1.0</td>\n",
       "      <td>4.0</td>\n",
       "      <td>1.0</td>\n",
       "      <td>1.2</td>\n",
       "      <td>8.0</td>\n",
       "      <td>10.0</td>\n",
       "      <td>BLINDED</td>\n",
       "    </tr>\n",
       "    <tr>\n",
       "      <th>4</th>\n",
       "      <td>2744846</td>\n",
       "      <td>CC1=NC(=CS1)C1=NC(=CS1)C1=NC(SCC(=O)NC2=CC=C(C...</td>\n",
       "      <td>C19H14ClN5OS3</td>\n",
       "      <td>460.0</td>\n",
       "      <td>InChI=1S/C19H14ClN5OS3/c1-11-22-16(9-27-11)18-...</td>\n",
       "      <td>JEZYTEDGOJCVQS-UHFFFAOYSA-N</td>\n",
       "      <td>N-(4-chlorophenyl)-2-[4-[2-(2-methyl-1,3-thiaz...</td>\n",
       "      <td>4.4</td>\n",
       "      <td>459.004901</td>\n",
       "      <td>459.004901</td>\n",
       "      <td>...</td>\n",
       "      <td>4.0</td>\n",
       "      <td>1.0</td>\n",
       "      <td>0.0</td>\n",
       "      <td>1.0</td>\n",
       "      <td>4.0</td>\n",
       "      <td>0.0</td>\n",
       "      <td>1.0</td>\n",
       "      <td>7.0</td>\n",
       "      <td>10.0</td>\n",
       "      <td>-1.146128036</td>\n",
       "    </tr>\n",
       "  </tbody>\n",
       "</table>\n",
       "<p>5 rows × 40 columns</p>\n",
       "</div>"
      ],
      "text/plain": [
       "       CID                                             SMILES  \\\n",
       "0  2744814  ClC1=CC(NC(=O)CSC2=NC=CC(=N2)C2=CSC(=N2)C2=CC=...   \n",
       "1  2821293  CN1N=C(C=C1C(F)(F)F)C1=CC=C(S1)C1=CC=NC(SCC(=O...   \n",
       "2  2820912  CSC1=C(C(C)=C(S1)C1=NC(C)=CS1)C1=CC=NC(SCC(=O)...   \n",
       "3  2820914  CSC1=C(C(C)=C(S1)C1=NC(C)=CS1)C1=CC=NC(SCC(=O)...   \n",
       "4  2744846  CC1=NC(=CS1)C1=NC(=CS1)C1=NC(SCC(=O)NC2=CC=C(C...   \n",
       "\n",
       "  MolecularFormula  MolecularWeight  \\\n",
       "0   C21H14Cl2N4OS2            473.4   \n",
       "1  C21H15ClF3N5OS2            510.0   \n",
       "2    C22H19ClN4OS4            519.1   \n",
       "3    C22H19ClN4OS4            519.1   \n",
       "4    C19H14ClN5OS3            460.0   \n",
       "\n",
       "                                               InChI  \\\n",
       "0  InChI=1S/C21H14Cl2N4OS2/c22-14-8-15(23)10-16(9...   \n",
       "1  InChI=1S/C21H15ClF3N5OS2/c1-30-18(21(23,24)25)...   \n",
       "2  InChI=1S/C22H19ClN4OS4/c1-12-10-30-20(25-12)19...   \n",
       "3  InChI=1S/C22H19ClN4OS4/c1-12-10-30-20(25-12)19...   \n",
       "4  InChI=1S/C19H14ClN5OS3/c1-11-22-16(9-27-11)18-...   \n",
       "\n",
       "                      InChIKey  \\\n",
       "0  LILOEJREEQFTPM-UHFFFAOYSA-N   \n",
       "1  AWQBIBTZJKFLEW-UHFFFAOYSA-N   \n",
       "2  WRXXISITJDZVCL-UHFFFAOYSA-N   \n",
       "3  NNVVKOVHRSDRSQ-UHFFFAOYSA-N   \n",
       "4  JEZYTEDGOJCVQS-UHFFFAOYSA-N   \n",
       "\n",
       "                                           IUPACName  XLogP   ExactMass  \\\n",
       "0  N-(3,5-dichlorophenyl)-2-[4-(2-phenyl-1,3-thia...    5.6  471.998609   \n",
       "1  N-(4-chlorophenyl)-2-[4-[5-[1-methyl-5-(triflu...    4.9  509.035865   \n",
       "2  N-(4-chlorophenyl)-2-[4-[4-methyl-2-methylsulf...    6.3  518.013024   \n",
       "3  N-(2-chlorophenyl)-2-[4-[4-methyl-2-methylsulf...    6.3  518.013024   \n",
       "4  N-(4-chlorophenyl)-2-[4-[2-(2-methyl-1,3-thiaz...    4.4  459.004901   \n",
       "\n",
       "   MonoisotopicMass  ...  FeatureAcceptorCount3D  FeatureDonorCount3D  \\\n",
       "0        471.998609  ...                     3.0                  1.0   \n",
       "1        509.035865  ...                     3.0                  1.0   \n",
       "2        518.013024  ...                     3.0                  1.0   \n",
       "3        518.013024  ...                     3.0                  1.0   \n",
       "4        459.004901  ...                     4.0                  1.0   \n",
       "\n",
       "   FeatureAnionCount3D  FeatureCationCount3D  FeatureRingCount3D  \\\n",
       "0                  0.0                   1.0                 4.0   \n",
       "1                  0.0                   1.0                 4.0   \n",
       "2                  0.0                   1.0                 4.0   \n",
       "3                  0.0                   1.0                 4.0   \n",
       "4                  0.0                   1.0                 4.0   \n",
       "\n",
       "   FeatureHydrophobeCount3D  ConformerModelRMSD3D  EffectiveRotorCount3D  \\\n",
       "0                       0.0                   1.0                    7.0   \n",
       "1                       0.0                   1.2                    8.0   \n",
       "2                       1.0                   1.0                    8.0   \n",
       "3                       1.0                   1.2                    8.0   \n",
       "4                       0.0                   1.0                    7.0   \n",
       "\n",
       "   ConformerCount3D         pIC50  \n",
       "0              10.0  -0.477121255  \n",
       "1              10.0            -1  \n",
       "2              10.0  -1.041392685  \n",
       "3              10.0       BLINDED  \n",
       "4              10.0  -1.146128036  \n",
       "\n",
       "[5 rows x 40 columns]"
      ]
     },
     "execution_count": 91,
     "metadata": {},
     "output_type": "execute_result"
    }
   ],
   "source": [
    "# set our dataset equal to ds variable\n",
    "ds = pd.read_csv('DDH Data with Properties.csv')\n",
    "\n",
    "# view first 5 lines of dataset\n",
    "ds.head() "
   ]
  },
  {
   "cell_type": "markdown",
   "id": "5566b653-a91b-491e-baa7-c1b042569d4a",
   "metadata": {},
   "source": [
    "#### Preprocessing"
   ]
  },
  {
   "cell_type": "code",
   "execution_count": 92,
   "id": "d728ea12-66ba-4cee-a64b-b65e00caf66e",
   "metadata": {},
   "outputs": [],
   "source": [
    "# dropping  non-float values\n",
    "ds.drop(['CID','SMILES','InChI','InChIKey','IUPACName','MolecularFormula'],axis=1,inplace=True)\n",
    "\n",
    "# replacing non existing values in columns\n",
    "ds.replace(np.nan,0,inplace=True)\n",
    "\n",
    "# replacing binded value with float value\n",
    "ds = ds[ds['pIC50'] != 'BLINDED']\n",
    "# ds.loc[ds['pIC50']=='BLINDED',:]\n",
    "ds['pIC50']=ds['pIC50'].astype('float64')"
   ]
  },
  {
   "cell_type": "markdown",
   "id": "b685ac5c-a4f4-4d47-adba-a16b282eb343",
   "metadata": {},
   "source": [
    "#### Splitting Dataset"
   ]
  },
  {
   "cell_type": "code",
   "execution_count": 93,
   "id": "96b7aa85-61b5-4105-8981-b72c6a7342eb",
   "metadata": {},
   "outputs": [],
   "source": [
    "# Setting X equal to all columns except for covalent unit count\n",
    "X=ds.loc[:,ds.columns!='CovalentUnitCount']\n",
    "\n",
    "# Setting y equal to covalent unit count\n",
    "y=ds['CovalentUnitCount']\n",
    "\n",
    "# 80/20 train/test split\n",
    "X_train, X_test, y_train, y_test = train_test_split(X, y, test_size=0.2, random_state=42)"
   ]
  },
  {
   "cell_type": "markdown",
   "id": "f93408ff-f1f6-4a82-9a4a-3c2f8eebcd3e",
   "metadata": {},
   "source": [
    "#### Scaling Data"
   ]
  },
  {
   "cell_type": "code",
   "execution_count": 94,
   "id": "cabaf1d1-2009-492f-8199-53a838608a9a",
   "metadata": {},
   "outputs": [],
   "source": [
    "# Initialize the scaler\n",
    "scaler_X = MinMaxScaler()\n",
    "scaler_y = MinMaxScaler()\n",
    "\n",
    "# Scalling split data\n",
    "X_train = scaler_X.fit_transform(X_train)\n",
    "X_test_scaled = scaler_X.transform(X_test)"
   ]
  },
  {
   "cell_type": "markdown",
   "id": "ab1f443d-2f57-4388-83d1-deaf13cc8bff",
   "metadata": {},
   "source": [
    "#### Building and Training Model"
   ]
  },
  {
   "cell_type": "code",
   "execution_count": 95,
   "id": "6de7009b-ae00-431a-9884-9efee60fddbe",
   "metadata": {
    "scrolled": true
   },
   "outputs": [
    {
     "name": "stderr",
     "output_type": "stream",
     "text": [
      "C:\\Users\\armkz\\AppData\\Local\\Packages\\PythonSoftwareFoundation.Python.3.12_qbz5n2kfra8p0\\LocalCache\\local-packages\\Python312\\site-packages\\sklearn\\base.py:486: UserWarning: X has feature names, but GradientBoostingRegressor was fitted without feature names\n",
      "  warnings.warn(\n"
     ]
    }
   ],
   "source": [
    "# XGBoost model built using XGBoost Regreesor\n",
    "boost_model = GradientBoostingRegressor(learning_rate=0.1, n_estimators=100, max_depth=3, random_state=42)\n",
    "# fitting our XGBoost model with the X train and X test sets that have been scaled accordingly with their features.\n",
    "boost_model.fit(X_train, y_train)\n",
    "# producing our prediction using our scaled test set\n",
    "y_pred = boost_model.predict(X_test)"
   ]
  },
  {
   "cell_type": "markdown",
   "id": "33f1fde6-f4b9-42ab-bbc6-97e14c06990d",
   "metadata": {},
   "source": [
    "#### Evaluating Model"
   ]
  },
  {
   "cell_type": "code",
   "execution_count": 96,
   "id": "ad062cb1-d730-4a1b-bdb4-58db95fd1cf6",
   "metadata": {},
   "outputs": [
    {
     "name": "stdout",
     "output_type": "stream",
     "text": [
      "Mean Squared Error: 2.4666821156062076e-05\n"
     ]
    }
   ],
   "source": [
    "# measuring how precise our model was in its predictions\n",
    "print(\"Mean Squared Error:\", mean_squared_error(y_test, y_pred))"
   ]
  }
 ],
 "metadata": {
  "kernelspec": {
   "display_name": "Python 3 (ipykernel)",
   "language": "python",
   "name": "python3"
  },
  "language_info": {
   "codemirror_mode": {
    "name": "ipython",
    "version": 3
   },
   "file_extension": ".py",
   "mimetype": "text/x-python",
   "name": "python",
   "nbconvert_exporter": "python",
   "pygments_lexer": "ipython3",
   "version": "3.12.4"
  }
 },
 "nbformat": 4,
 "nbformat_minor": 5
}
